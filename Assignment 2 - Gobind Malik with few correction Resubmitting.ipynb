{
 "cells": [
  {
   "cell_type": "markdown",
   "metadata": {},
   "source": [
    "Q1.) Write a Python Program to implement your own myreduce() function which works exactly like\n",
    "Python's built-in function reduce()"
   ]
  },
  {
   "cell_type": "code",
   "execution_count": 2,
   "metadata": {
    "ExecuteTime": {
     "end_time": "2020-05-11T14:07:57.773063Z",
     "start_time": "2020-05-11T14:07:57.768062Z"
    }
   },
   "outputs": [],
   "source": [
    "from functools import reduce"
   ]
  },
  {
   "cell_type": "code",
   "execution_count": 3,
   "metadata": {
    "ExecuteTime": {
     "end_time": "2020-05-11T14:07:58.884172Z",
     "start_time": "2020-05-11T14:07:58.867188Z"
    }
   },
   "outputs": [
    {
     "data": {
      "text/plain": [
       "45"
      ]
     },
     "execution_count": 3,
     "metadata": {},
     "output_type": "execute_result"
    }
   ],
   "source": [
    "#Reduce fucntion for addition\n",
    "reduce(lambda x, y: x+y, [1,2,3,4,5,6,7,8,9])"
   ]
  },
  {
   "cell_type": "code",
   "execution_count": 10,
   "metadata": {
    "ExecuteTime": {
     "end_time": "2020-05-11T14:11:34.092662Z",
     "start_time": "2020-05-11T14:11:34.083670Z"
    }
   },
   "outputs": [
    {
     "data": {
      "text/plain": [
       "362880"
      ]
     },
     "execution_count": 10,
     "metadata": {},
     "output_type": "execute_result"
    }
   ],
   "source": [
    "#Reduce fucntion for multiplication\n",
    "\n",
    "reduce(lambda x, y: x*y, [1,2,3,4,5,6,7,8,9])"
   ]
  },
  {
   "cell_type": "code",
   "execution_count": 8,
   "metadata": {
    "ExecuteTime": {
     "end_time": "2020-05-11T14:11:13.903406Z",
     "start_time": "2020-05-11T14:11:13.898408Z"
    }
   },
   "outputs": [],
   "source": [
    "#creating a fucntion which gives same result as reduce fucntion\n",
    "def myreduce(x):\n",
    "    s = 0\n",
    "    m = 1\n",
    "    for i in x:\n",
    "        s += i\n",
    "        m *= i\n",
    "    return s, m"
   ]
  },
  {
   "cell_type": "code",
   "execution_count": 9,
   "metadata": {
    "ExecuteTime": {
     "end_time": "2020-05-11T14:11:16.015666Z",
     "start_time": "2020-05-11T14:11:16.007671Z"
    }
   },
   "outputs": [
    {
     "data": {
      "text/plain": [
       "(45, 362880)"
      ]
     },
     "execution_count": 9,
     "metadata": {},
     "output_type": "execute_result"
    }
   ],
   "source": [
    "myreduce([1,2,3,4,5,6,7,8,9])"
   ]
  },
  {
   "cell_type": "markdown",
   "metadata": {},
   "source": [
    "Q2.) Write a Python program to implement your own myfilter() function which works exactly like\n",
    "Python's built-in function filter()"
   ]
  },
  {
   "cell_type": "code",
   "execution_count": 11,
   "metadata": {
    "ExecuteTime": {
     "end_time": "2020-05-11T14:13:58.725136Z",
     "start_time": "2020-05-11T14:13:58.715157Z"
    }
   },
   "outputs": [
    {
     "data": {
      "text/plain": [
       "[2, 4, 8, 4, 0, 10, 14, 24, 56]"
      ]
     },
     "execution_count": 11,
     "metadata": {},
     "output_type": "execute_result"
    }
   ],
   "source": [
    "# Using filter function\n",
    "l = [1,2,4,8,4,0,10,14,17,19,24,56,53,23]\n",
    "list(filter(lambda x : x%2==0, l))"
   ]
  },
  {
   "cell_type": "code",
   "execution_count": 26,
   "metadata": {
    "ExecuteTime": {
     "end_time": "2020-05-21T14:37:59.015915Z",
     "start_time": "2020-05-21T14:37:59.010919Z"
    }
   },
   "outputs": [],
   "source": [
    "# Creating a function acting as Filter function\n",
    "def myfilter(x):\n",
    "    l=[]\n",
    "    for i in x:\n",
    "        if i%2==0:\n",
    "            l.append(i)\n",
    "    return l\n",
    "            "
   ]
  },
  {
   "cell_type": "code",
   "execution_count": 27,
   "metadata": {
    "ExecuteTime": {
     "end_time": "2020-05-21T14:37:59.288772Z",
     "start_time": "2020-05-21T14:37:59.278778Z"
    }
   },
   "outputs": [
    {
     "data": {
      "text/plain": [
       "[2, 4, 6, 8]"
      ]
     },
     "execution_count": 27,
     "metadata": {},
     "output_type": "execute_result"
    }
   ],
   "source": [
    "myfilter([1,2,3,4,5,6,7,8,9])"
   ]
  },
  {
   "cell_type": "markdown",
   "metadata": {},
   "source": [
    "Q2.) Implement List comprehensions to produce the following lists.\n",
    "Write List comprehensions to produce the following Lists"
   ]
  },
  {
   "cell_type": "code",
   "execution_count": 84,
   "metadata": {
    "ExecuteTime": {
     "end_time": "2020-05-11T15:33:25.345659Z",
     "start_time": "2020-05-11T15:33:25.336682Z"
    }
   },
   "outputs": [
    {
     "data": {
      "text/plain": [
       "['A', 'C', 'A', 'D', 'G', 'I', 'L', 'D']"
      ]
     },
     "execution_count": 84,
     "metadata": {},
     "output_type": "execute_result"
    }
   ],
   "source": [
    "# ['A', 'C', 'A', 'D', 'G', 'I', 'L', 'D']\n",
    "\n",
    "x = 'ACADGILD'\n",
    "[i for i in x]"
   ]
  },
  {
   "cell_type": "code",
   "execution_count": 85,
   "metadata": {
    "ExecuteTime": {
     "end_time": "2020-05-11T15:33:29.237268Z",
     "start_time": "2020-05-11T15:33:29.230271Z"
    }
   },
   "outputs": [
    {
     "data": {
      "text/plain": [
       "['x', 'xx', 'xxx', 'xxxx', 'y', 'yy', 'yyy', 'yyyy', 'z', 'zz', 'zzz', 'zzzz']"
      ]
     },
     "execution_count": 85,
     "metadata": {},
     "output_type": "execute_result"
    }
   ],
   "source": [
    "#['x', 'xx', 'xxx', 'xxxx', 'y', 'yy', 'yyy', 'yyyy', 'z', 'zz', 'zzz', 'zzzz']\n",
    "\n",
    "[i*j for i in 'xyz' for j in range(1,5)]"
   ]
  },
  {
   "cell_type": "code",
   "execution_count": 89,
   "metadata": {
    "ExecuteTime": {
     "end_time": "2020-05-11T15:35:01.798164Z",
     "start_time": "2020-05-11T15:35:01.790151Z"
    }
   },
   "outputs": [
    {
     "data": {
      "text/plain": [
       "['x', 'y', 'z', 'xx', 'yy', 'zz', 'xxx', 'yyy', 'zzz', 'xxxx', 'yyyy', 'zzzz']"
      ]
     },
     "execution_count": 89,
     "metadata": {},
     "output_type": "execute_result"
    }
   ],
   "source": [
    "# ['x', 'y', 'z', 'xx', 'yy', 'zz', 'xx', 'yy', 'zz', 'xxxx', 'yyyy', 'zzzz']\n",
    "\n",
    "[j*i for i in range(1,5) for j in 'xyz']"
   ]
  },
  {
   "cell_type": "code",
   "execution_count": 1,
   "metadata": {
    "ExecuteTime": {
     "end_time": "2020-05-11T21:28:40.209458Z",
     "start_time": "2020-05-11T21:28:40.177455Z"
    }
   },
   "outputs": [
    {
     "data": {
      "text/plain": [
       "[[2], [3], [4], [3], [4], [5], [4], [5], [6]]"
      ]
     },
     "execution_count": 1,
     "metadata": {},
     "output_type": "execute_result"
    }
   ],
   "source": [
    "# [[2], [3], [4], [3], [4], [5], [4], [5], [6]]\n",
    "\n",
    "l = [[i] for i in range(2,5)] + [[i+1] for i in range(2,5)] + [[i+2] for i in range(2,5)]\n",
    "l"
   ]
  },
  {
   "cell_type": "code",
   "execution_count": 86,
   "metadata": {
    "ExecuteTime": {
     "end_time": "2020-05-11T15:34:47.088144Z",
     "start_time": "2020-05-11T15:34:47.078147Z"
    }
   },
   "outputs": [
    {
     "data": {
      "text/plain": [
       "[[2, 3, 4, 5], [3, 4, 5, 6], [4, 5, 6, 7], [5, 6, 7, 8]]"
      ]
     },
     "execution_count": 86,
     "metadata": {},
     "output_type": "execute_result"
    }
   ],
   "source": [
    "#[[2, 3, 4, 5], [3, 4, 5, 6], [4, 5, 6, 7], [5, 6, 7, 8]]\n",
    "\n",
    "[[i for i in range(2,6)], [i+1 for i in range(2,6)], [i+2 for i in range(2,6)], [i+3 for i in range(2,6)]]"
   ]
  },
  {
   "cell_type": "code",
   "execution_count": 87,
   "metadata": {
    "ExecuteTime": {
     "end_time": "2020-05-11T15:34:52.247923Z",
     "start_time": "2020-05-11T15:34:52.238931Z"
    }
   },
   "outputs": [
    {
     "data": {
      "text/plain": [
       "[(1, 1), (2, 1), (3, 1), (1, 2), (2, 2), (3, 2), (1, 3), (2, 3), (3, 3)]"
      ]
     },
     "execution_count": 87,
     "metadata": {},
     "output_type": "execute_result"
    }
   ],
   "source": [
    "# [(1, 1), (2, 1), (3, 1), (1, 2), (2, 2), (3, 2), (1, 3), (2, 3), (3, 3)]\n",
    "\n",
    "[(j,i) for i in range(1,4) for j in range(1,4)]"
   ]
  },
  {
   "cell_type": "markdown",
   "metadata": {},
   "source": [
    "Q3.) Implement a function longestWord() that takes a list of words and returns the longest one."
   ]
  },
  {
   "cell_type": "code",
   "execution_count": 101,
   "metadata": {
    "ExecuteTime": {
     "end_time": "2020-05-11T16:06:17.585869Z",
     "start_time": "2020-05-11T16:06:17.578872Z"
    }
   },
   "outputs": [],
   "source": [
    "def longestWord(x):\n",
    "    l = x.split(' ')\n",
    "    max1 = len(l[0])\n",
    "    temp = l[0]\n",
    "    for i in l:\n",
    "        if len(i) > max1:\n",
    "            max1 = len(i)\n",
    "            temp = i\n",
    "    return f'Longest word is {temp}'"
   ]
  },
  {
   "cell_type": "code",
   "execution_count": 102,
   "metadata": {
    "ExecuteTime": {
     "end_time": "2020-05-11T16:06:35.267812Z",
     "start_time": "2020-05-11T16:06:35.259817Z"
    }
   },
   "outputs": [
    {
     "data": {
      "text/plain": [
       "'Longest word is Hyderabad'"
      ]
     },
     "execution_count": 102,
     "metadata": {},
     "output_type": "execute_result"
    }
   ],
   "source": [
    "longestWord('Banglore Chennai Delhi Mumbai Hyderabad Gujarat')"
   ]
  },
  {
   "cell_type": "markdown",
   "metadata": {},
   "source": [
    "Q1.2.) Write a function filter_long_words() that takes a list of words and an integer n and returns the list\n",
    "of words that are longer than n."
   ]
  },
  {
   "cell_type": "code",
   "execution_count": 126,
   "metadata": {
    "ExecuteTime": {
     "end_time": "2020-05-11T21:19:47.846101Z",
     "start_time": "2020-05-11T21:19:42.986905Z"
    }
   },
   "outputs": [
    {
     "name": "stdout",
     "output_type": "stream",
     "text": [
      "Enter the n value = 7\n",
      "Enter some words = hyderabad delhi banglore chennai kolkatta indore gurgaon chandigarh\n"
     ]
    },
    {
     "data": {
      "text/plain": [
       "['hyderabad', 'banglore', 'kolkatta', 'chandigarh']"
      ]
     },
     "execution_count": 126,
     "metadata": {},
     "output_type": "execute_result"
    }
   ],
   "source": [
    "def filter_long_words(x):\n",
    "    long_words = []\n",
    "    n = int(input('Enter the n value = '))\n",
    "    words = input('Enter some words = ')\n",
    "    l = words.split(' ')\n",
    "    for i in l:\n",
    "        if len(i) > n:\n",
    "            long_words.append(i)\n",
    "    return long_words\n",
    "filter_long_words(words)"
   ]
  },
  {
   "cell_type": "markdown",
   "metadata": {},
   "source": [
    "Q1.3.)Write a Python program using function concept that maps list of words into a list of integers\n",
    "representing the lengths of the corresponding words ."
   ]
  },
  {
   "cell_type": "code",
   "execution_count": 115,
   "metadata": {
    "ExecuteTime": {
     "end_time": "2020-05-11T21:07:07.132622Z",
     "start_time": "2020-05-11T21:07:07.116615Z"
    }
   },
   "outputs": [
    {
     "name": "stdout",
     "output_type": "stream",
     "text": [
      "Word List:\n",
      "['ineuron', 'python', 'orientation', 'datascience', 'planning', 'success']\n",
      "\n",
      "Corresponding Lengths:\n",
      "[7, 6, 11, 11, 8, 7]\n"
     ]
    }
   ],
   "source": [
    "words = ['ineuron', 'python', 'orientation', 'datascience', 'planning', 'success']\n",
    "func = lambda x : len(x)\n",
    "a = list(map(func, words))\n",
    "print('Word List:')\n",
    "print(words)\n",
    "print()\n",
    "print('Corresponding Lengths:')\n",
    "print(a)"
   ]
  },
  {
   "cell_type": "markdown",
   "metadata": {},
   "source": [
    "Q2.2) Write a Python function which takes a character (i.e. a string of length 1) and returns True if it is\n",
    "a vowel, False otherwise."
   ]
  },
  {
   "cell_type": "code",
   "execution_count": 125,
   "metadata": {
    "ExecuteTime": {
     "end_time": "2020-05-11T21:18:50.330263Z",
     "start_time": "2020-05-11T21:18:47.594768Z"
    }
   },
   "outputs": [
    {
     "name": "stdout",
     "output_type": "stream",
     "text": [
      "Enter a character to check if its a vowel or a consonant = E\n"
     ]
    },
    {
     "data": {
      "text/plain": [
       "True"
      ]
     },
     "execution_count": 125,
     "metadata": {},
     "output_type": "execute_result"
    }
   ],
   "source": [
    "charac = input('Enter a character to check if its a vowel or a consonant = ')\n",
    "def vowels(x):\n",
    "    \n",
    "    if len(x) > 1:\n",
    "        return 'Invalid Entry'\n",
    "    elif x.upper() in ['A', 'E', 'I', 'O', 'U']:\n",
    "        return True\n",
    "    return False\n",
    "vowels(charac)"
   ]
  },
  {
   "cell_type": "markdown",
   "metadata": {},
   "source": [
    "Q1.1) Write a Python Program(with class concepts) to find the area of the triangle using the below\n",
    "formula.\n",
    "\n",
    "area = (s*(s-a)*(s-b)*(s-c)) ** 0.5\n",
    "\n",
    "Function to take the length of the sides of triangle from user should be defined in the parent\n",
    "class and function to calculate the area should be defined in subclass."
   ]
  },
  {
   "cell_type": "code",
   "execution_count": 21,
   "metadata": {
    "ExecuteTime": {
     "end_time": "2020-05-21T14:15:47.115475Z",
     "start_time": "2020-05-21T14:15:44.406721Z"
    }
   },
   "outputs": [
    {
     "name": "stdout",
     "output_type": "stream",
     "text": [
      "Enter side a = 6\n",
      "Enter side b = 6\n",
      "Enter side c = 6\n",
      "Area of the Triangle with sides 6, 6, 6 is 15.5885\n"
     ]
    }
   ],
   "source": [
    "from math import sqrt\n",
    "a = int(input('Enter side a = '))\n",
    "b = int(input('Enter side b = '))\n",
    "c = int(input('Enter side c = '))\n",
    "\n",
    "class Triangle:\n",
    "    def __init__(self, a, b, c):\n",
    "        self.a = a\n",
    "        self.b = b\n",
    "        self.c = c\n",
    "    \n",
    "class Tri_area(Triangle):\n",
    "    def __init__(self, a, b, c):\n",
    "        super().__init__(a, b, c)\n",
    "        \n",
    "    def get_area(self):\n",
    "        s = (self.a + self.b + self.c)/2\n",
    "        return sqrt(s*(s - self.a)*(s - self.b)*(s - self.c))\n",
    "    \n",
    "ar = Tri_area(a, b, c)\n",
    "print('Area of the Triangle with sides {}, {}, {} is {:.4f}'.format(ar.a, ar.b, ar.c, Tri_area.get_area(ar)))"
   ]
  },
  {
   "cell_type": "code",
   "execution_count": null,
   "metadata": {},
   "outputs": [],
   "source": []
  }
 ],
 "metadata": {
  "kernelspec": {
   "display_name": "Python 3",
   "language": "python",
   "name": "python3"
  },
  "language_info": {
   "codemirror_mode": {
    "name": "ipython",
    "version": 3
   },
   "file_extension": ".py",
   "mimetype": "text/x-python",
   "name": "python",
   "nbconvert_exporter": "python",
   "pygments_lexer": "ipython3",
   "version": "3.7.4"
  },
  "toc": {
   "base_numbering": 1,
   "nav_menu": {},
   "number_sections": true,
   "sideBar": true,
   "skip_h1_title": false,
   "title_cell": "Table of Contents",
   "title_sidebar": "Contents",
   "toc_cell": false,
   "toc_position": {},
   "toc_section_display": true,
   "toc_window_display": false
  }
 },
 "nbformat": 4,
 "nbformat_minor": 2
}
